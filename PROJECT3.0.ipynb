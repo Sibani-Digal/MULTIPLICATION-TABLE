{
 "cells": [
  {
   "cell_type": "markdown",
   "id": "fa4fbf57",
   "metadata": {},
   "source": [
    "# MULTIPLICATION TABLE"
   ]
  },
  {
   "cell_type": "code",
   "execution_count": 14,
   "id": "3c0d28f7",
   "metadata": {},
   "outputs": [
    {
     "name": "stdout",
     "output_type": "stream",
     "text": [
      "-------------------------MULTIPLICATION TABLE-------------------------\n",
      "Enter the number :68\n",
      "68 * 1 = 68\n",
      "68 * 2 = 136\n",
      "68 * 3 = 204\n",
      "68 * 4 = 272\n",
      "68 * 5 = 340\n",
      "68 * 6 = 408\n",
      "68 * 7 = 476\n",
      "68 * 8 = 544\n",
      "68 * 9 = 612\n",
      "68 * 10 = 680\n",
      "68 * 11 = 748\n",
      "68 * 12 = 816\n",
      "68 * 13 = 884\n"
     ]
    }
   ],
   "source": [
    "print(\"-\"*25+\"MULTIPLICATION TABLE\"+\"-\"*25)\n",
    "\n",
    "n=int(input(\"Enter the number :\"))\n",
    "i=1\n",
    "while(i!=14):\n",
    "    print(n,\"*\",i,\"=\",n*i)\n",
    "    i=i+1"
   ]
  },
  {
   "cell_type": "code",
   "execution_count": null,
   "id": "1bc0644d",
   "metadata": {},
   "outputs": [],
   "source": []
  }
 ],
 "metadata": {
  "kernelspec": {
   "display_name": "Python 3",
   "language": "python",
   "name": "python3"
  },
  "language_info": {
   "codemirror_mode": {
    "name": "ipython",
    "version": 3
   },
   "file_extension": ".py",
   "mimetype": "text/x-python",
   "name": "python",
   "nbconvert_exporter": "python",
   "pygments_lexer": "ipython3",
   "version": "3.8.8"
  }
 },
 "nbformat": 4,
 "nbformat_minor": 5
}
